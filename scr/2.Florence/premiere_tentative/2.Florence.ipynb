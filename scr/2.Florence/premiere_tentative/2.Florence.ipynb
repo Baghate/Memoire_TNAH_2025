{
 "cells": [
  {
   "cell_type": "markdown",
   "id": "dc495dc2",
   "metadata": {},
   "source": [
    "# Script pour utiliser Florence afin d'automatiser le traitement des pellicules Henrot"
   ]
  },
  {
   "cell_type": "markdown",
   "id": "5b2896ee",
   "metadata": {},
   "source": [
    "## Environnement"
   ]
  },
  {
   "cell_type": "markdown",
   "id": "89beadf3",
   "metadata": {},
   "source": [
    "### Import des librairies"
   ]
  },
  {
   "cell_type": "code",
   "execution_count": null,
   "id": "1bf2f2db",
   "metadata": {},
   "outputs": [],
   "source": [
    "import os"
   ]
  },
  {
   "cell_type": "markdown",
   "id": "f3e4e002",
   "metadata": {},
   "source": [
    "## Fonctions"
   ]
  },
  {
   "cell_type": "code",
   "execution_count": null,
   "id": "809eedea",
   "metadata": {},
   "outputs": [],
   "source": []
  },
  {
   "cell_type": "markdown",
   "id": "77938e33",
   "metadata": {},
   "source": [
    "## Processing"
   ]
  },
  {
   "cell_type": "code",
   "execution_count": null,
   "id": "16901096",
   "metadata": {},
   "outputs": [],
   "source": []
  }
 ],
 "metadata": {
  "kernelspec": {
   "display_name": "florence",
   "language": "python",
   "name": "python3"
  },
  "language_info": {
   "name": "python",
   "version": "3.12.9"
  }
 },
 "nbformat": 4,
 "nbformat_minor": 5
}
