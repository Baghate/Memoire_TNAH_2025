{
  "cells": [
    {
      "cell_type": "code",
      "execution_count": null,
      "id": "zHije-45SolY",
      "metadata": {
        "id": "zHije-45SolY"
      },
      "outputs": [],
      "source": [
        "from transformers import AutoProcessor, AutoModelForCausalLM\n",
        "from PIL import Image\n",
        "import matplotlib.pyplot as plt\n",
        "import matplotlib.patches as patches\n",
        "import requests\n",
        "import copy\n",
        "import torch\n",
        "import utils\n",
        "%matplotlib inline"
      ]
    },
    {
      "cell_type": "code",
      "execution_count": null,
      "id": "f0f1ef11-ae6d-43dd-857f-6cabfd467fcd",
      "metadata": {
        "id": "f0f1ef11-ae6d-43dd-857f-6cabfd467fcd"
      },
      "outputs": [],
      "source": [
        "model_id = \"microsoft/Florence-2-large\"\n",
        "path = \"Test2.png\""
      ]
    },
    {
      "cell_type": "code",
      "execution_count": null,
      "id": "YCAKhyfhSGSy",
      "metadata": {
        "colab": {
          "base_uri": "https://localhost:8080/"
        },
        "id": "YCAKhyfhSGSy",
        "outputId": "cf7386a5-4590-4ec5-b39f-490e6fd17617"
      },
      "outputs": [
        {
          "name": "stdout",
          "output_type": "stream",
          "text": [
            "Using CPU\n"
          ]
        }
      ],
      "source": [
        "def use_device()\n",
        "    device = \"cuda:0\" if torch.cuda.is_available() else \"cpu\"\n",
        "    if torch.cuda.is_available():\n",
        "        print(f\"Using GPU: {torch.cuda.get_device_name(0)}\")\n",
        "    else:\n",
        "        print(\"Using CPU\")\n",
        "    return device"
      ]
    },
    {
      "cell_type": "code",
      "execution_count": null,
      "id": "u3xVCdTwSWEv",
      "metadata": {
        "id": "u3xVCdTwSWEv"
      },
      "outputs": [],
      "source": [
        "def run_example(task_prompt, path, model_id, text_input=None):\n",
        "\n",
        "    image = Image.open(path).convert(\"RGB\")\n",
        "    prompt = task_prompt if text_input is None else f\"{task_prompt} {text_input}\"\n",
        "    inputs = processor(text=prompt, images=image, return_tensors=\"pt\")\n",
        "\n",
        "    model = AutoModelForCausalLM.from_pretrained(model_id, trust_remote_code=True).eval().to(device)\n",
        "    processor = AutoProcessor.from_pretrained(model_id, trust_remote_code=True)\n",
        "\n",
        "    with torch.no_grad():  # Pour éviter les calculs inutiles de gradient\n",
        "        generated_ids = model.generate(\n",
        "            input_ids=inputs[\"input_ids\"].to(device),\n",
        "            pixel_values=inputs[\"pixel_values\"].to(device),\n",
        "            max_new_tokens=1024,\n",
        "            early_stopping=True,\n",
        "            do_sample=False,\n",
        "            num_beams=3,\n",
        "        )\n",
        "        generated_text = processor.batch_decode(generated_ids, skip_special_tokens=False)[0]\n",
        "        parsed_answer = processor.post_process_generation(\n",
        "            generated_text,\n",
        "            task=task_prompt,\n",
        "            image_size=(image.width, image.height),\n",
        "        )\n",
        "    return parsed_answer"
      ]
    },
    {
      "cell_type": "code",
      "execution_count": null,
      "id": "a478371e-9ca9-444a-8ef1-c30be4b9ef7b",
      "metadata": {
        "id": "a478371e-9ca9-444a-8ef1-c30be4b9ef7b"
      },
      "outputs": [],
      "source": [
        "# Tâche OCR simple\n",
        "task_label = utils.TaskType.OCR\n",
        "results_label = run_example(task_label.value, image)\n",
        "print(f\"Results for {task_label.value}: {results}\")\n",
        "\n",
        "# Tâche OCR avec région\n",
        "task_coordinates = utils.TaskType.OCR_WITH_REGION\n",
        "results_coordinates = run_example(task_coordinates.value, image)\n",
        "print(f\"Results for {task_coordinates.value}: {results}\")"
      ]
    },
    {
      "cell_type": "code",
      "execution_count": null,
      "id": "I1rZGE2uuw79",
      "metadata": {
        "colab": {
          "base_uri": "https://localhost:8080/"
        },
        "id": "I1rZGE2uuw79",
        "outputId": "9585b9a8-661f-4dd8-c92e-23a91f9187cc"
      },
      "outputs": [
        {
          "name": "stdout",
          "output_type": "stream",
          "text": [
            "Données OCR_WITH_REGION (chaque box dans un dictionnaire séparé) :\n",
            "Box_1: {'coordinates': [169.39651489257812, 31.687501907348633, 469.7185363769531, 31.687501907348633, 469.7185363769531, 43.51750183105469, 169.39651489257812, 43.51750183105469], 'label': '</s>DIONYSOJ/PACCHUS (IN PERIPHERIA OCCIDENTIAL) 324-354'}\n",
            "Box_2: {'coordinates': [771.2815551757812, 29.15250015258789, 1071.603515625, 29.15250015258789, 1071.603515625, 40.98250198364258, 771.2815551757812, 40.98250198364258], 'label': 'DIONYSOS/PACCHRUS (UN PERIPERIRA OCCIDENTIAL) 352-507'}\n",
            "Box_3: {'coordinates': [1185.7755126953125, 29.15250015258789, 1200.6676025390625, 29.15250015258789, 1200.6676025390625, 38.44750213623047, 1185.7755126953125, 38.44750213623047], 'label': '63'}\n",
            "Box_4: {'coordinates': [261.2304992675781, 250.54251098632812, 381.6075134277344, 251.38751220703125, 381.6075134277344, 263.2174987792969, 261.2304992675781, 261.5274963378906], 'label': 'Bacchus (in per ocel) 3274'}\n",
            "Box_5: {'coordinates': [984.7335205078125, 298.70751953125, 1095.1824951171875, 298.70751953125, 1095.1824951171875, 309.6925048828125, 984.7335205078125, 309.6925048828125], 'label': 'Bacchius (ip per ocell) 364'}\n",
            "Box_6: {'coordinates': [644.6995239257812, 357.8575134277344, 756.3895263671875, 357.8575134277344, 756.3895263671875, 369.6875, 644.6995239257812, 369.6875], 'label': 'Bacchious (i) per oce) 3292'}\n",
            "Box_7: {'coordinates': [37.850502014160156, 422.0775146484375, 152.0225067138672, 422.9225158691406, 152.0225067138672, 434.75250244140625, 37.850502014160156, 433.9075012207031], 'label': 'Bacchuus (ii) per (occi) 3234'}\n",
            "Box_8: {'coordinates': [386.5715026855469, 422.9225158691406, 500.7435302734375, 422.9225158691406, 500.7435302734375, 434.75250244140625, 386.5715026855469, 434.75250244140625], 'label': 'Bacchieus (n) per(occi 3247'}\n",
            "Box_9: {'coordinates': [387.8125305175781, 423.76751708984375, 500.7435302734375, 423.76751708984375, 500.7435302734375, 434.75250244140625, 387.8125305175781, 434.75250244140625], 'label': 'Bacchinius (ni) per. ocel 3247'}\n",
            "Box_10: {'coordinates': [983.4925537109375, 563.1925048828125, 1096.423583984375, 563.1925048828125, 1096.423583984375, 574.177490234375, 983.4925537109375, 574.177490234375], 'label': 'Bachius (in (per) ocel: 365'}\n",
            "Box_11: {'coordinates': [645.9405517578125, 755.0075073242188, 756.3895263671875, 755.8525390625, 756.3895263671875, 766.8375244140625, 645.9405517578125, 765.9925537109375], 'label': 'Bacchinus (p) per: ocel; 365'}\n",
            "Box_12: {'coordinates': [37.850502014160156, 830.2125244140625, 152.0225067138672, 830.2125244140625, 152.0225067138672, 841.197509765625, 37.850502014160156, 840.3525390625], 'label': 'Bacchanus (m) per; ocel. 3245'}\n",
            "Box_13: {'coordinates': [313.3525085449219, 831.0575561523438, 426.28350830078125, 831.0575561523438, 426.28350830078125, 841.197509765625, 313.3525085449219, 841.197509765625], 'label': 'Baccius (in) per per (ocel) 365'}\n",
            "Box_14: {'coordinates': [983.4925537109375, 827.6775512695312, 1097.66455078125, 828.5225219726562, 1097.66455078125, 839.5075073242188, 983.4925537109375, 838.6625366210938], 'label': 'Bacachus (in Per: oce: 3245'}\n"
          ]
        }
      ],
      "source": [
        "# Créer un dictionnaire pour organiser les données\n",
        "ocr_with_region_data = {}\n",
        "\n",
        "# Extraire les quads (boîtes) et les labels\n",
        "if '<OCR_WITH_REGION>' in results:\n",
        "    quad_boxes = results_coordinates['<OCR_WITH_REGION>']['quad_boxes']\n",
        "    labels = results_label['<OCR_WITH_REGION>']['labels']\n",
        "\n",
        "    for i, (box, label) in enumerate(zip(quad_boxes, labels)):\n",
        "        # Créer un dictionnaire pour chaque entrée OCR avec ses coordonnées et le label\n",
        "        ocr_with_region_data[f'Box_{i + 1}'] = {\n",
        "            'coordinates': box,  # Coordonnées de la boîte (quad box)\n",
        "            'label': label       # Label de la détection OCR\n",
        "        }\n",
        "\n",
        "# Afficher les résultats sous forme de dictionnaire\n",
        "dectections = []\n",
        "\n",
        "print(\"Données OCR_WITH_REGION (chaque box dans un dictionnaire séparé) :\")\n",
        "\n",
        "for key, value in ocr_with_region_data.items():\n",
        "    detection.append({key}: {value})\n",
        "    print(f\"{key}: {value}\")\n",
        "\n",
        "    return detections"
      ]
    },
    {
      "cell_type": "code",
      "execution_count": null,
      "id": "0e659469-9b0e-4dec-bec0-917b08a03622",
      "metadata": {
        "colab": {
          "base_uri": "https://localhost:8080/"
        },
        "id": "0e659469-9b0e-4dec-bec0-917b08a03622",
        "outputId": "1d3d1146-40fb-41da-a2d1-1c90e7cb2b99"
      },
      "outputs": [
        {
          "name": "stdout",
          "output_type": "stream",
          "text": [
            "<OD>: {'<OD>': {'bboxes': [[704.2675170898438, 445.7375183105469, 894.1405639648438, 665.4375], [88.73150634765625, 542.9125366210938, 243.85650634765625, 738.1075439453125], [430.00653076171875, 133.08750915527344, 557.8295288085938, 283.49749755859375], [1028.1685791015625, 657.83251953125, 1158.4735107421875, 787.9625244140625], [1023.2045288085938, 119.5675048828125, 1138.6175537109375, 253.92251586914062], [78.80350494384766, 128.8625030517578, 191.73451232910156, 261.5274963378906], [1030.6505126953125, 378.13751220703125, 1144.822509765625, 504.88751220703125], [667.0375366210938, 140.6925048828125, 760.112548828125, 248.00750732421875], [348.10052490234375, 541.2225341796875, 418.8375244140625, 644.3125], [679.447509765625, 385.7425231933594, 928.8885498046875, 668.8175048828125], [51.501502990722656, 71.40250396728516, 221.5185089111328, 269.13250732421875], [320.79852294921875, 461.7925109863281, 580.1675415039062, 820.072509765625], [675.7245483398438, 384.0525207519531, 931.3705444335938, 742.33251953125], [664.5555419921875, 54.50250244140625, 936.3345336914062, 353.63250732421875], [50.260501861572266, 458.4125061035156, 278.6045227050781, 815.0025024414062], [389.05352783203125, 67.17750549316406, 595.0595092773438, 408.5575256347656], [49.019500732421875, 70.55750274658203, 233.9285125732422, 405.1775207519531], [992.1795654296875, 589.3875122070312, 1196.944580078125, 821.7625122070312], [999.6255493164062, 57.03750228881836, 1189.49853515625, 294.4825134277344], [998.384521484375, 323.2125244140625, 1183.2935791015625, 558.1224975585938], [264.9535217285156, 59.57250213623047, 361.75152587890625, 243.78250122070312]], 'labels': ['human face', 'human face', 'human face', 'human face', 'human face', 'human face', 'human face', 'human face', 'human face', 'human head', 'human head', 'person', 'person', 'person', 'person', 'person', 'person', 'person', 'person', 'person', 'statue (sculpture)']}}\n"
          ]
        }
      ],
      "source": [
        "tasks_img_detection =  utils.TaskType.OBJECT_DETECTION\n",
        "\n",
        "for task in tasks_img_detection:\n",
        "    results_img_detection = run_example(task.value, image)\n",
        "    print(f\"{task.value}: {results_img_detection}\")\n"
      ]
    },
    {
      "cell_type": "code",
      "execution_count": null,
      "id": "wOZZ3hqWvZ9V",
      "metadata": {
        "colab": {
          "base_uri": "https://localhost:8080/"
        },
        "id": "wOZZ3hqWvZ9V",
        "outputId": "dd8a5ebb-415c-4162-ece0-cb7ba9d2698c"
      },
      "outputs": [
        {
          "name": "stdout",
          "output_type": "stream",
          "text": [
            "Données OBJECT_DETECTION (chaque box dans un dictionnaire séparé) :\n",
            "Box_1: {'coordinates': [704.2675170898438, 445.7375183105469, 894.1405639648438, 665.4375], 'label': 'human face'}\n",
            "Box_2: {'coordinates': [88.73150634765625, 542.9125366210938, 243.85650634765625, 738.1075439453125], 'label': 'human face'}\n",
            "Box_3: {'coordinates': [430.00653076171875, 133.08750915527344, 557.8295288085938, 283.49749755859375], 'label': 'human face'}\n",
            "Box_4: {'coordinates': [1028.1685791015625, 657.83251953125, 1158.4735107421875, 787.9625244140625], 'label': 'human face'}\n",
            "Box_5: {'coordinates': [1023.2045288085938, 119.5675048828125, 1138.6175537109375, 253.92251586914062], 'label': 'human face'}\n",
            "Box_6: {'coordinates': [78.80350494384766, 128.8625030517578, 191.73451232910156, 261.5274963378906], 'label': 'human face'}\n",
            "Box_7: {'coordinates': [1030.6505126953125, 378.13751220703125, 1144.822509765625, 504.88751220703125], 'label': 'human face'}\n",
            "Box_8: {'coordinates': [667.0375366210938, 140.6925048828125, 760.112548828125, 248.00750732421875], 'label': 'human face'}\n",
            "Box_9: {'coordinates': [348.10052490234375, 541.2225341796875, 418.8375244140625, 644.3125], 'label': 'human face'}\n",
            "Box_10: {'coordinates': [679.447509765625, 385.7425231933594, 928.8885498046875, 668.8175048828125], 'label': 'human head'}\n",
            "Box_11: {'coordinates': [51.501502990722656, 71.40250396728516, 221.5185089111328, 269.13250732421875], 'label': 'human head'}\n",
            "Box_12: {'coordinates': [320.79852294921875, 461.7925109863281, 580.1675415039062, 820.072509765625], 'label': 'person'}\n",
            "Box_13: {'coordinates': [675.7245483398438, 384.0525207519531, 931.3705444335938, 742.33251953125], 'label': 'person'}\n",
            "Box_14: {'coordinates': [664.5555419921875, 54.50250244140625, 936.3345336914062, 353.63250732421875], 'label': 'person'}\n",
            "Box_15: {'coordinates': [50.260501861572266, 458.4125061035156, 278.6045227050781, 815.0025024414062], 'label': 'person'}\n",
            "Box_16: {'coordinates': [389.05352783203125, 67.17750549316406, 595.0595092773438, 408.5575256347656], 'label': 'person'}\n",
            "Box_17: {'coordinates': [49.019500732421875, 70.55750274658203, 233.9285125732422, 405.1775207519531], 'label': 'person'}\n",
            "Box_18: {'coordinates': [992.1795654296875, 589.3875122070312, 1196.944580078125, 821.7625122070312], 'label': 'person'}\n",
            "Box_19: {'coordinates': [999.6255493164062, 57.03750228881836, 1189.49853515625, 294.4825134277344], 'label': 'person'}\n",
            "Box_20: {'coordinates': [998.384521484375, 323.2125244140625, 1183.2935791015625, 558.1224975585938], 'label': 'person'}\n",
            "Box_21: {'coordinates': [264.9535217285156, 59.57250213623047, 361.75152587890625, 243.78250122070312], 'label': 'statue (sculpture)'}\n"
          ]
        }
      ],
      "source": [
        "# Créer un dictionnaire pour organiser les données\n",
        "object_detection_data = {}\n",
        "\n",
        "# Extraire les boîtes (bboxes) et les labels\n",
        "if '<OD>' in results:\n",
        "    bboxes = results_img_detection['<OD>']['bboxes']\n",
        "    labels = results_img_detection['<OD>']['labels']\n",
        "\n",
        "    for i, (bbox, label) in enumerate(zip(bboxes, labels)):\n",
        "        # Créer un dictionnaire pour chaque entrée de détection avec ses coordonnées et le label\n",
        "        object_detection_data[f'Box_{i + 1}'] = {\n",
        "            'label': label,        # Label de la détection d'objet\n",
        "            'coordinates': bbox  # Coordonnées de la boîte (bbox)\n",
        "        }\n",
        "# Afficher les résultats sous forme de dictionnaire\n",
        "print(\"Données OBJECT_DETECTION (chaque box dans un dictionnaire séparé) :\")\n",
        "\n",
        "for key, value in object_detection_data.items():\n",
        "    print(f\"{key}: {value}\")"
      ]
    },
    {
      "cell_type": "code",
      "execution_count": null,
      "id": "5e2c33bf-6ec9-4ad5-b621-2b62fd2f39a3",
      "metadata": {
        "id": "5e2c33bf-6ec9-4ad5-b621-2b62fd2f39a3"
      },
      "outputs": [],
      "source": []
    }
  ],
  "metadata": {
    "accelerator": "GPU",
    "colab": {
      "gpuType": "T4",
      "machine_shape": "hm",
      "provenance": []
    },
    "kernelspec": {
      "display_name": "Python 3 (ipykernel)",
      "language": "python",
      "name": "python3"
    },
    "language_info": {
      "codemirror_mode": {
        "name": "ipython",
        "version": 3
      },
      "file_extension": ".py",
      "mimetype": "text/x-python",
      "name": "python",
      "nbconvert_exporter": "python",
      "pygments_lexer": "ipython3",
      "version": "3.10.15"
    }
  },
  "nbformat": 4,
  "nbformat_minor": 5
}