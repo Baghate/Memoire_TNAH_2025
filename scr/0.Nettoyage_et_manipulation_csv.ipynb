{
 "cells": [
  {
   "cell_type": "markdown",
   "id": "9086c50b",
   "metadata": {},
   "source": [
    "## Environnement"
   ]
  },
  {
   "cell_type": "markdown",
   "id": "c1c459d3",
   "metadata": {},
   "source": [
    "### Installation des dépendances"
   ]
  },
  {
   "cell_type": "code",
   "execution_count": null,
   "id": "5240e50a",
   "metadata": {},
   "outputs": [],
   "source": [
    "%pip install pandas\n",
    "%pip install requests\n",
    "%pip install tqdm\n",
    "%pip install ipywidgets"
   ]
  },
  {
   "cell_type": "markdown",
   "id": "f8be2e12",
   "metadata": {},
   "source": [
    "### Import des librairies"
   ]
  },
  {
   "cell_type": "code",
   "execution_count": 2,
   "id": "02380e84",
   "metadata": {},
   "outputs": [],
   "source": [
    "import os\n",
    "import requests\n",
    "import pandas as pd\n",
    "import csv\n",
    "import re\n",
    "from contextlib import redirect_stderr\n",
    "import io"
   ]
  },
  {
   "cell_type": "markdown",
   "id": "7688a6a9",
   "metadata": {},
   "source": [
    "## Fonctions"
   ]
  },
  {
   "cell_type": "markdown",
   "id": "904f99fc",
   "metadata": {},
   "source": [
    "### Suppression des espaces qui se sont glissés dans l'export\n",
    "\n",
    "*Les adresses des sites des bibliothèques spécialisées de Paris comportaient un espace entre la fin de l'adresse et le \".fr\" empêchant l'automatisation*\n",
    "\n",
    "Codé avec Github Copilot"
   ]
  },
  {
   "cell_type": "code",
   "execution_count": null,
   "id": "ee3c7a23",
   "metadata": {},
   "outputs": [],
   "source": [
    "# Chemin du fichier CSV\n",
    "#input_file = '/home/mathieu/Documents/Stage/datasets/dataset_ExpoUniv1937/rapport_33396.csv'\n",
    "#output_file = '/home/mathieu/Documents/Stage/datasets/dataset_ExpoUniv1937/rapport_33396_cleaned_true.csv'\n",
    "\n",
    "# Fonction pour nettoyer les URL\n",
    "def clean_url(url):\n",
    "    return url.replace(\"paris .fr\", \"paris.fr\")\n",
    "\n",
    "# Lecture et écriture du fichier CSV\n",
    "with open(input_file, mode='r', encoding='utf-8') as infile, \\\n",
    "     open(output_file, mode='w', encoding='utf-8', newline='') as outfile:\n",
    "    \n",
    "    reader = csv.reader(infile)\n",
    "    writer = csv.writer(outfile)\n",
    "    \n",
    "    # Traiter chaque ligne\n",
    "    for row in reader:\n",
    "        # Nettoyer chaque colonne de la ligne\n",
    "        cleaned_row = [clean_url(cell) if \"https://bibliotheques-specialisees.paris\" in cell else cell for cell in row]\n",
    "        writer.writerow(cleaned_row)\n",
    "\n",
    "print(f\"Le fichier nettoyé a été enregistré sous : {output_file}\")"
   ]
  },
  {
   "cell_type": "markdown",
   "id": "b7c27bf7",
   "metadata": {},
   "source": [
    "### Supression des coats\n",
    "\n",
    "Codé avec Github Copilot"
   ]
  },
  {
   "cell_type": "code",
   "execution_count": null,
   "id": "855a8b01",
   "metadata": {},
   "outputs": [],
   "source": [
    "#input_file = \"/home/mathieu/Documents/Stage/datasets/dataset_ExpoUniv1937/rapport_33396_cleaned_true.csv\"\n",
    "\n",
    "# Lire le contenu du fichier\n",
    "with open(input_file, \"r\", encoding=\"utf-8\") as file:\n",
    "    content = file.read()\n",
    "\n",
    "# Supprimer tous les guillemets\n",
    "content = re.sub(r'\"\"\"', '', content)\n",
    "content = re.sub(r'\"\"', '', content)\n",
    "content = re.sub(r'\"', '', content)\n",
    "\n",
    "# Écrire le contenu modifié dans le fichier\n",
    "with open(input_file, \"w\", encoding=\"utf-8\") as file:\n",
    "    file.write(content)\n",
    "\n",
    "print(\"Les guillemets ont été supprimés avec succès.\")"
   ]
  },
  {
   "cell_type": "code",
   "execution_count": 64,
   "id": "1b13fe7c",
   "metadata": {},
   "outputs": [],
   "source": [
    "input_csv = \"/home/mathieu/Documents/Stage/datasets/dataset_ExpoUniv1937/test.csv\""
   ]
  },
  {
   "cell_type": "markdown",
   "id": "f32d950b",
   "metadata": {},
   "source": [
    "### Détecter les lignes fautives d'un csv\n",
    "\n",
    "+ Utilisation de la librairie io et de redirect_stderr pour capturer les lignes fautives du csv ne comportant pas le bon nombre de colonnes\n",
    "\n",
    "*Le besoin s'est fait ressentir de passer par une phase préalable de troubleshooting face à l'impossibilité de lire le csv avec un simple pd.read_csv*\n",
    "\n",
    "Excepté une petite modification dû à un changement dans la syntaxe de pandas dans la version 1.3.0 (concernant le paramètre \"on_bad_lines\") les credits vont à :\n",
    "\n",
    "© vlogize https://www.youtube.com/watch?v=1fdePybJ0yQ\n",
    "CC BY-SA 4.0\n",
    "\n",
    "Based on a Stack Overflow exchange https://stackoverflow.com/users/6238676/prish\n",
    "Also under CC BY-SA 4.0"
   ]
  },
  {
   "cell_type": "code",
   "execution_count": null,
   "id": "0e0ba83f",
   "metadata": {},
   "outputs": [
    {
     "name": "stdout",
     "output_type": "stream",
     "text": [
      "[]\n"
     ]
    }
   ],
   "source": [
    "# Prepare capture warnings\n",
    "f = io.StringIO()\n",
    "# warning_str = \"\"\n",
    "\n",
    "# Read the csv while capturing warnings\n",
    "with redirect_stderr(f):\n",
    "    df = pd.read_csv(input_csv, sep=';', encoding=\"utf-8\", on_bad_lines='warn')\n",
    "\n",
    "# Extract warning messages\n",
    "if f.getvalue():\n",
    "    warning_str = f.getvalue()\n",
    "\n",
    "# Using Regex to capture line numbers\n",
    "regex = re.compile('line ([0-9]*)')\n",
    "line_numbers = regex.findall(warning_str)\n",
    "\n",
    "# Output line numbers\n",
    "print(line_numbers)\n"
   ]
  },
  {
   "cell_type": "markdown",
   "id": "31f50a27",
   "metadata": {},
   "source": [
    "*Finalement l'avoir ouvert avec libreoffice et enregistré après a réglé le problème en réécrivant automatiquement un nombre cohérent de colonnes*\n",
    "\n",
    "l'erreur de base : pandas ParserError: Error tokenizing data. C error: Expected 16 fields in line 14, saw 17"
   ]
  },
  {
   "cell_type": "code",
   "execution_count": null,
   "id": "ad9a0164",
   "metadata": {},
   "outputs": [],
   "source": [
    "print(\"Contenu capturé de stderr :\")\n",
    "print(warning_str)"
   ]
  },
  {
   "cell_type": "code",
   "execution_count": 14,
   "id": "9e28ab68",
   "metadata": {},
   "outputs": [],
   "source": [
    "test_csv = \"/home/mathieu/Documents/Stage/datasets/dataset_ExpoUniv1937/test.csv\""
   ]
  },
  {
   "cell_type": "code",
   "execution_count": 15,
   "id": "fb804ad1",
   "metadata": {},
   "outputs": [],
   "source": [
    "df = pd.read_csv(test_csv, sep=';', encoding='utf-8')"
   ]
  },
  {
   "cell_type": "markdown",
   "id": "6f94a654",
   "metadata": {},
   "source": [
    "### Ajouter une colonne pour le chemin des fichiers dans le csv"
   ]
  },
  {
   "cell_type": "code",
   "execution_count": 68,
   "id": "b6685c32",
   "metadata": {},
   "outputs": [
    {
     "data": {
      "text/html": [
       "<div>\n",
       "<style scoped>\n",
       "    .dataframe tbody tr th:only-of-type {\n",
       "        vertical-align: middle;\n",
       "    }\n",
       "\n",
       "    .dataframe tbody tr th {\n",
       "        vertical-align: top;\n",
       "    }\n",
       "\n",
       "    .dataframe thead th {\n",
       "        text-align: right;\n",
       "    }\n",
       "</style>\n",
       "<table border=\"1\" class=\"dataframe\">\n",
       "  <thead>\n",
       "    <tr style=\"text-align: right;\">\n",
       "      <th></th>\n",
       "      <th>URL</th>\n",
       "      <th>TITRE</th>\n",
       "      <th>TYPE</th>\n",
       "      <th>AUTEURS</th>\n",
       "      <th>CONTRIBUTEURS</th>\n",
       "      <th>EDITEURS</th>\n",
       "      <th>DATES</th>\n",
       "      <th>DESCRIPTIONS</th>\n",
       "      <th>SUJETS</th>\n",
       "      <th>PROVENANCE</th>\n",
       "      <th>ARK CATALOGUE</th>\n",
       "      <th>DROITS</th>\n",
       "      <th>NOMBRE DE VUES</th>\n",
       "      <th>CODE(S) PROJET(S)</th>\n",
       "      <th>NQA Moyen (%)</th>\n",
       "      <th>SOURCE</th>\n",
       "      <th>FICHIER</th>\n",
       "    </tr>\n",
       "  </thead>\n",
       "  <tbody>\n",
       "    <tr>\n",
       "      <th>0</th>\n",
       "      <td>https://bibliotheques-specialisees.paris.fr/ar...</td>\n",
       "      <td>[Etude publicitaire pour le] cognac Bisquit. [...</td>\n",
       "      <td>images</td>\n",
       "      <td>Vigneau, André (1892-1968) ¤ Camera (Société d...</td>\n",
       "      <td>NaN</td>\n",
       "      <td>1937</td>\n",
       "      <td>1937</td>\n",
       "      <td>Caméra fut un studio de publicité photographiq...</td>\n",
       "      <td>Cognac Bisquit ¤ Exposition internationale . 1...</td>\n",
       "      <td>Bibliothèques spécialisées de la Ville de Paris</td>\n",
       "      <td>NaN</td>\n",
       "      <td>domaine public ¤ public domain</td>\n",
       "      <td>1.0</td>\n",
       "      <td>NaN</td>\n",
       "      <td>0.0</td>\n",
       "      <td>© André Vigneau / BHVP / Roger-Viollet / Ville...</td>\n",
       "      <td>/home/mathieu/Documents/Stage/datasets/dataset...</td>\n",
       "    </tr>\n",
       "    <tr>\n",
       "      <th>1</th>\n",
       "      <td>https://bibliotheques-specialisees.paris.fr/ar...</td>\n",
       "      <td>[Etude publicitaire pour Robert Lang. Expositi...</td>\n",
       "      <td>images</td>\n",
       "      <td>Vigneau, André (1892-1968) ¤ Camera (Société d...</td>\n",
       "      <td>NaN</td>\n",
       "      <td>[1937 ]</td>\n",
       "      <td>1937</td>\n",
       "      <td>Caméra fut un studio de publicité photographiq...</td>\n",
       "      <td>Exposition internationale . 1937 . Paris ¤ Pho...</td>\n",
       "      <td>Bibliothèques spécialisées de la Ville de Paris</td>\n",
       "      <td>NaN</td>\n",
       "      <td>domaine public ¤ public domain</td>\n",
       "      <td>1.0</td>\n",
       "      <td>NaN</td>\n",
       "      <td>0.0</td>\n",
       "      <td>© André Vigneau / BHVP / Roger-Viollet / Ville...</td>\n",
       "      <td>/home/mathieu/Documents/Stage/datasets/dataset...</td>\n",
       "    </tr>\n",
       "    <tr>\n",
       "      <th>2</th>\n",
       "      <td>https://gallica.bnf.fr/ark:/12148/btv1b10589915p</td>\n",
       "      <td>[Exposition des Arts et des Techniques à Paris...</td>\n",
       "      <td>images</td>\n",
       "      <td>Maillard, Marcel (1899-1977). Photographe. Anc...</td>\n",
       "      <td>NaN</td>\n",
       "      <td>NaN</td>\n",
       "      <td>1937</td>\n",
       "      <td>Donateur : Manneville, Philippe (1937 -2012). ...</td>\n",
       "      <td>Expositions internationales ¤ Paris (France)</td>\n",
       "      <td>Gallica</td>\n",
       "      <td>http://catalogue.bnf.fr/ark:/12148/cb45893386h</td>\n",
       "      <td>domaine public ¤ public domain</td>\n",
       "      <td>1.0</td>\n",
       "      <td>BmLHav000</td>\n",
       "      <td>0.0</td>\n",
       "      <td>Bibliothèque municipale du Havre, MM/FP 64.02</td>\n",
       "      <td>/home/mathieu/Documents/Stage/datasets/dataset...</td>\n",
       "    </tr>\n",
       "    <tr>\n",
       "      <th>3</th>\n",
       "      <td>https://gallica.bnf.fr/ark:/12148/btv1b105899181</td>\n",
       "      <td>[Exposition des Arts et des Techniques à Paris...</td>\n",
       "      <td>images</td>\n",
       "      <td>Maillard, Marcel (1899-1977). Photographe. Anc...</td>\n",
       "      <td>NaN</td>\n",
       "      <td>NaN</td>\n",
       "      <td>1937</td>\n",
       "      <td>Donateur : Manneville, Philippe (1937 -2012). ...</td>\n",
       "      <td>Expositions internationales ¤ Paris (France)</td>\n",
       "      <td>Gallica</td>\n",
       "      <td>http://catalogue.bnf.fr/ark:/12148/cb45893389j</td>\n",
       "      <td>domaine public ¤ public domain</td>\n",
       "      <td>1.0</td>\n",
       "      <td>BmLHav000</td>\n",
       "      <td>0.0</td>\n",
       "      <td>Bibliothèque municipale du Havre, MM/FP 64.05</td>\n",
       "      <td>/home/mathieu/Documents/Stage/datasets/dataset...</td>\n",
       "    </tr>\n",
       "    <tr>\n",
       "      <th>4</th>\n",
       "      <td>https://gallica.bnf.fr/ark:/12148/btv1b10589913s</td>\n",
       "      <td>[Exposition des Arts et des Techniques à Paris...</td>\n",
       "      <td>images</td>\n",
       "      <td>Maillard, Marcel (1899-1977). Photographe. Anc...</td>\n",
       "      <td>NaN</td>\n",
       "      <td>NaN</td>\n",
       "      <td>1937</td>\n",
       "      <td>Donateur : Manneville, Philippe (1937 -2012). ...</td>\n",
       "      <td>Expositions internationales ¤ Paris (France)</td>\n",
       "      <td>Gallica</td>\n",
       "      <td>http://catalogue.bnf.fr/ark:/12148/cb45893384t</td>\n",
       "      <td>domaine public ¤ public domain</td>\n",
       "      <td>1.0</td>\n",
       "      <td>BmLHav000</td>\n",
       "      <td>0.0</td>\n",
       "      <td>Bibliothèque municipale du Havre, MM/FP 63.11</td>\n",
       "      <td>/home/mathieu/Documents/Stage/datasets/dataset...</td>\n",
       "    </tr>\n",
       "  </tbody>\n",
       "</table>\n",
       "</div>"
      ],
      "text/plain": [
       "                                                 URL  \\\n",
       "0  https://bibliotheques-specialisees.paris.fr/ar...   \n",
       "1  https://bibliotheques-specialisees.paris.fr/ar...   \n",
       "2   https://gallica.bnf.fr/ark:/12148/btv1b10589915p   \n",
       "3   https://gallica.bnf.fr/ark:/12148/btv1b105899181   \n",
       "4   https://gallica.bnf.fr/ark:/12148/btv1b10589913s   \n",
       "\n",
       "                                               TITRE    TYPE  \\\n",
       "0  [Etude publicitaire pour le] cognac Bisquit. [...  images   \n",
       "1  [Etude publicitaire pour Robert Lang. Expositi...  images   \n",
       "2  [Exposition des Arts et des Techniques à Paris...  images   \n",
       "3  [Exposition des Arts et des Techniques à Paris...  images   \n",
       "4  [Exposition des Arts et des Techniques à Paris...  images   \n",
       "\n",
       "                                             AUTEURS  CONTRIBUTEURS EDITEURS  \\\n",
       "0  Vigneau, André (1892-1968) ¤ Camera (Société d...            NaN     1937   \n",
       "1  Vigneau, André (1892-1968) ¤ Camera (Société d...            NaN  [1937 ]   \n",
       "2  Maillard, Marcel (1899-1977). Photographe. Anc...            NaN      NaN   \n",
       "3  Maillard, Marcel (1899-1977). Photographe. Anc...            NaN      NaN   \n",
       "4  Maillard, Marcel (1899-1977). Photographe. Anc...            NaN      NaN   \n",
       "\n",
       "   DATES                                       DESCRIPTIONS  \\\n",
       "0   1937  Caméra fut un studio de publicité photographiq...   \n",
       "1   1937  Caméra fut un studio de publicité photographiq...   \n",
       "2   1937  Donateur : Manneville, Philippe (1937 -2012). ...   \n",
       "3   1937  Donateur : Manneville, Philippe (1937 -2012). ...   \n",
       "4   1937  Donateur : Manneville, Philippe (1937 -2012). ...   \n",
       "\n",
       "                                              SUJETS  \\\n",
       "0  Cognac Bisquit ¤ Exposition internationale . 1...   \n",
       "1  Exposition internationale . 1937 . Paris ¤ Pho...   \n",
       "2       Expositions internationales ¤ Paris (France)   \n",
       "3       Expositions internationales ¤ Paris (France)   \n",
       "4       Expositions internationales ¤ Paris (France)   \n",
       "\n",
       "                                        PROVENANCE  \\\n",
       "0  Bibliothèques spécialisées de la Ville de Paris   \n",
       "1  Bibliothèques spécialisées de la Ville de Paris   \n",
       "2                                          Gallica   \n",
       "3                                          Gallica   \n",
       "4                                          Gallica   \n",
       "\n",
       "                                    ARK CATALOGUE  \\\n",
       "0                                             NaN   \n",
       "1                                             NaN   \n",
       "2  http://catalogue.bnf.fr/ark:/12148/cb45893386h   \n",
       "3  http://catalogue.bnf.fr/ark:/12148/cb45893389j   \n",
       "4  http://catalogue.bnf.fr/ark:/12148/cb45893384t   \n",
       "\n",
       "                           DROITS  NOMBRE DE VUES CODE(S) PROJET(S)  \\\n",
       "0  domaine public ¤ public domain             1.0               NaN   \n",
       "1  domaine public ¤ public domain             1.0               NaN   \n",
       "2  domaine public ¤ public domain             1.0         BmLHav000   \n",
       "3  domaine public ¤ public domain             1.0         BmLHav000   \n",
       "4  domaine public ¤ public domain             1.0         BmLHav000   \n",
       "\n",
       "   NQA Moyen (%)                                             SOURCE  \\\n",
       "0            0.0  © André Vigneau / BHVP / Roger-Viollet / Ville...   \n",
       "1            0.0  © André Vigneau / BHVP / Roger-Viollet / Ville...   \n",
       "2            0.0      Bibliothèque municipale du Havre, MM/FP 64.02   \n",
       "3            0.0      Bibliothèque municipale du Havre, MM/FP 64.05   \n",
       "4            0.0      Bibliothèque municipale du Havre, MM/FP 63.11   \n",
       "\n",
       "                                             FICHIER  \n",
       "0  /home/mathieu/Documents/Stage/datasets/dataset...  \n",
       "1  /home/mathieu/Documents/Stage/datasets/dataset...  \n",
       "2  /home/mathieu/Documents/Stage/datasets/dataset...  \n",
       "3  /home/mathieu/Documents/Stage/datasets/dataset...  \n",
       "4  /home/mathieu/Documents/Stage/datasets/dataset...  "
      ]
     },
     "execution_count": 68,
     "metadata": {},
     "output_type": "execute_result"
    }
   ],
   "source": [
    "#df.loc[1]\n",
    "df.head()"
   ]
  },
  {
   "cell_type": "markdown",
   "id": "19f8948e",
   "metadata": {},
   "source": [
    "### Afficher les colonnes"
   ]
  },
  {
   "cell_type": "code",
   "execution_count": 17,
   "id": "3a4500e3",
   "metadata": {},
   "outputs": [
    {
     "data": {
      "text/plain": [
       "Index(['URL', 'TITRE', 'TYPE', 'AUTEURS', 'CONTRIBUTEURS', 'EDITEURS', 'DATES',\n",
       "       'DESCRIPTIONS', 'SUJETS', 'PROVENANCE', 'ARK CATALOGUE', 'DROITS',\n",
       "       'NOMBRE DE VUES', 'CODE(S) PROJET(S)', 'NQA Moyen (%)', 'SOURCE'],\n",
       "      dtype='object')"
      ]
     },
     "execution_count": 17,
     "metadata": {},
     "output_type": "execute_result"
    }
   ],
   "source": [
    "df.columns"
   ]
  },
  {
   "cell_type": "markdown",
   "id": "938ae8bb",
   "metadata": {},
   "source": [
    "### Ajouter une colonne \"FICHIER\" et la peupler avec les emplacements des fichiers"
   ]
  },
  {
   "cell_type": "code",
   "execution_count": null,
   "id": "b9cd6c9e",
   "metadata": {},
   "outputs": [
    {
     "name": "stdout",
     "output_type": "stream",
     "text": [
      "                                                    URL  \\\n",
      "0     https://bibliotheques-specialisees.paris.fr/ar...   \n",
      "1     https://bibliotheques-specialisees.paris.fr/ar...   \n",
      "2      https://gallica.bnf.fr/ark:/12148/btv1b10589915p   \n",
      "3      https://gallica.bnf.fr/ark:/12148/btv1b105899181   \n",
      "4      https://gallica.bnf.fr/ark:/12148/btv1b10589913s   \n",
      "...                                                 ...   \n",
      "1235  https://bibliotheques-specialisees.paris.fr/ar...   \n",
      "1236  https://bibliotheques-specialisees.paris.fr/ar...   \n",
      "1237  https://bibliotheques-specialisees.paris.fr/ar...   \n",
      "1238  https://bibliotheques-specialisees.paris.fr/ar...   \n",
      "1239    https://gallica.bnf.fr/ark:/12148/btv1b90104852   \n",
      "\n",
      "                                                  TITRE    TYPE  \\\n",
      "0     [Etude publicitaire pour le] cognac Bisquit. [...  images   \n",
      "1     [Etude publicitaire pour Robert Lang. Expositi...  images   \n",
      "2     [Exposition des Arts et des Techniques à Paris...  images   \n",
      "3     [Exposition des Arts et des Techniques à Paris...  images   \n",
      "4     [Exposition des Arts et des Techniques à Paris...  images   \n",
      "...                                                 ...     ...   \n",
      "1235  [Reportage à la clinique du Dr Ramon, vétérina...  images   \n",
      "1236  [Reportage à la clinique vétérinaire du Dr Mub...  images   \n",
      "1237  [Reportage au laboratoire de préparation pharm...  images   \n",
      "1238  [Reproductions d'illustrations pour l'Expositi...  images   \n",
      "1239  Mai-novembre Paris 1937 : Arts et techniques :...  images   \n",
      "\n",
      "                                                AUTEURS  CONTRIBUTEURS  \\\n",
      "0     Vigneau, André (1892-1968) ¤ Camera (Société d...            NaN   \n",
      "1     Vigneau, André (1892-1968) ¤ Camera (Société d...            NaN   \n",
      "2     Maillard, Marcel (1899-1977). Photographe. Anc...            NaN   \n",
      "3     Maillard, Marcel (1899-1977). Photographe. Anc...            NaN   \n",
      "4     Maillard, Marcel (1899-1977). Photographe. Anc...            NaN   \n",
      "...                                                 ...            ...   \n",
      "1235  Vigneau, André (1892-1968) ¤ Camera (Société d...            NaN   \n",
      "1236  Vigneau, André (1892-1968) ¤ Camera (Société d...            NaN   \n",
      "1237  Vigneau, André (1892-1968) ¤ Camera (Société d...            NaN   \n",
      "1238  Vigneau, André (1892-1968) ¤ Camera (Société d...            NaN   \n",
      "1239  Cappiello, Leonetto (1875-1942). Illustrateur ...            NaN   \n",
      "\n",
      "                                               EDITEURS  DATES  \\\n",
      "0                                                  1937   1937   \n",
      "1                                               [1937 ]   1937   \n",
      "2                                                   NaN   1937   \n",
      "3                                                   NaN   1937   \n",
      "4                                                   NaN   1937   \n",
      "...                                                 ...    ...   \n",
      "1235                                    [février 1937 ]   1937   \n",
      "1236                                    [février 1937 ]   1937   \n",
      "1237                                 [10 février 1937 ]   1937   \n",
      "1238                                            [1937 ]   1937   \n",
      "1239  [s.n.] ¤ [création des nouvelles éditions Capp...   1937   \n",
      "\n",
      "                                           DESCRIPTIONS  \\\n",
      "0     Caméra fut un studio de publicité photographiq...   \n",
      "1     Caméra fut un studio de publicité photographiq...   \n",
      "2     Donateur : Manneville, Philippe (1937 -2012). ...   \n",
      "3     Donateur : Manneville, Philippe (1937 -2012). ...   \n",
      "4     Donateur : Manneville, Philippe (1937 -2012). ...   \n",
      "...                                                 ...   \n",
      "1235  André Vigneau était en charge de l'organisatio...   \n",
      "1236  André Vigneau était en charge de l'organisatio...   \n",
      "1237  André Vigneau était en charge de l'organisatio...   \n",
      "1238  Cette rétrospective était centrée sur un procé...   \n",
      "1239                                            Affiche   \n",
      "\n",
      "                                                 SUJETS  \\\n",
      "0     Cognac Bisquit ¤ Exposition internationale . 1...   \n",
      "1     Exposition internationale . 1937 . Paris ¤ Pho...   \n",
      "2          Expositions internationales ¤ Paris (France)   \n",
      "3          Expositions internationales ¤ Paris (France)   \n",
      "4          Expositions internationales ¤ Paris (France)   \n",
      "...                                                 ...   \n",
      "1235  Ramon, Gaston (1886-1963) ¤ Exposition interna...   \n",
      "1236  Exposition internationale . 1937 . Paris ¤ Méd...   \n",
      "1237  Salimbéni, Alexandre (1867-1942) ¤ Exposition ...   \n",
      "1238  Claude, Georges (1870-1960) -- Expositions ¤ E...   \n",
      "1239  Expositions internationales -- Publicité -- Fr...   \n",
      "\n",
      "                                           PROVENANCE  \\\n",
      "0     Bibliothèques spécialisées de la Ville de Paris   \n",
      "1     Bibliothèques spécialisées de la Ville de Paris   \n",
      "2                                             Gallica   \n",
      "3                                             Gallica   \n",
      "4                                             Gallica   \n",
      "...                                               ...   \n",
      "1235  Bibliothèques spécialisées de la Ville de Paris   \n",
      "1236  Bibliothèques spécialisées de la Ville de Paris   \n",
      "1237  Bibliothèques spécialisées de la Ville de Paris   \n",
      "1238  Bibliothèques spécialisées de la Ville de Paris   \n",
      "1239                                          Gallica   \n",
      "\n",
      "                                       ARK CATALOGUE  \\\n",
      "0                                                NaN   \n",
      "1                                                NaN   \n",
      "2     http://catalogue.bnf.fr/ark:/12148/cb45893386h   \n",
      "3     http://catalogue.bnf.fr/ark:/12148/cb45893389j   \n",
      "4     http://catalogue.bnf.fr/ark:/12148/cb45893384t   \n",
      "...                                              ...   \n",
      "1235                                             NaN   \n",
      "1236                                             NaN   \n",
      "1237                                             NaN   \n",
      "1238                                             NaN   \n",
      "1239  http://catalogue.bnf.fr/ark:/12148/cb39835854z   \n",
      "\n",
      "                              DROITS  NOMBRE DE VUES CODE(S) PROJET(S)  \\\n",
      "0     domaine public ¤ public domain             1.0               NaN   \n",
      "1     domaine public ¤ public domain             1.0               NaN   \n",
      "2     domaine public ¤ public domain             1.0         BmLHav000   \n",
      "3     domaine public ¤ public domain             1.0         BmLHav000   \n",
      "4     domaine public ¤ public domain             1.0         BmLHav000   \n",
      "...                              ...             ...               ...   \n",
      "1235  domaine public ¤ public domain            17.0               NaN   \n",
      "1236  domaine public ¤ public domain             8.0               NaN   \n",
      "1237  domaine public ¤ public domain            16.0               NaN   \n",
      "1238  domaine public ¤ public domain             9.0               NaN   \n",
      "1239  domaine public ¤ public domain             1.0               NaN   \n",
      "\n",
      "      NQA Moyen (%)                                             SOURCE  \\\n",
      "0               0.0  © André Vigneau / BHVP / Roger-Viollet / Ville...   \n",
      "1               0.0  © André Vigneau / BHVP / Roger-Viollet / Ville...   \n",
      "2               0.0      Bibliothèque municipale du Havre, MM/FP 64.02   \n",
      "3               0.0      Bibliothèque municipale du Havre, MM/FP 64.05   \n",
      "4               0.0      Bibliothèque municipale du Havre, MM/FP 63.11   \n",
      "...             ...                                                ...   \n",
      "1235            0.0  © André Vigneau / BHVP / Roger-Viollet / Ville...   \n",
      "1236            0.0  © André Vigneau / BHVP / Roger-Viollet / Ville...   \n",
      "1237            0.0  © André Vigneau / BHVP / Roger-Viollet / Ville...   \n",
      "1238            0.0  © André Vigneau / BHVP / Roger-Viollet / Ville...   \n",
      "1239            0.0  Bibliothèque nationale de France, ENT DN-1 (CA...   \n",
      "\n",
      "                                                FICHIER  \n",
      "0     /home/mathieu/Documents/Stage/datasets/dataset...  \n",
      "1     /home/mathieu/Documents/Stage/datasets/dataset...  \n",
      "2     /home/mathieu/Documents/Stage/datasets/dataset...  \n",
      "3     /home/mathieu/Documents/Stage/datasets/dataset...  \n",
      "4     /home/mathieu/Documents/Stage/datasets/dataset...  \n",
      "...                                                 ...  \n",
      "1235  /home/mathieu/Documents/Stage/datasets/dataset...  \n",
      "1236  /home/mathieu/Documents/Stage/datasets/dataset...  \n",
      "1237  /home/mathieu/Documents/Stage/datasets/dataset...  \n",
      "1238  /home/mathieu/Documents/Stage/datasets/dataset...  \n",
      "1239  /home/mathieu/Documents/Stage/datasets/dataset...  \n",
      "\n",
      "[1240 rows x 17 columns]\n"
     ]
    }
   ],
   "source": [
    "# df.insert(16, 'FICHIER', [\n",
    "#     f\"/home/mathieu/Documents/Stage/datasets/dataset_ExpoUniv1937/output/image_{i}.jpg\"\n",
    "#     for i in range(1, len(df) + 1)\n",
    "# ])\n",
    "# print(df)"
   ]
  },
  {
   "cell_type": "markdown",
   "id": "0aef4c09",
   "metadata": {},
   "source": [
    "### Changer le nom des colonnes\n"
   ]
  },
  {
   "cell_type": "code",
   "execution_count": null,
   "id": "089adb26",
   "metadata": {},
   "outputs": [],
   "source": [
    "# df.columns = ['INDEX: 0', 'URL', 'TITRE', 'TYPE', 'AUTEURS', 'CONTRIBUTEURS',\n",
    "#        'EDITEURS', 'DATES', 'DESCRIPTIONS', 'SUJETS', 'PROVENANCE',\n",
    "#        'ARK CATALOGUE', 'DROITS', 'NOMBRE DE VUES', 'CODE(S) PROJET(S)',\n",
    "#        'NQA Moyen (%)', 'SOURCE', 'FICHIER']"
   ]
  },
  {
   "cell_type": "code",
   "execution_count": 19,
   "id": "d21c283d",
   "metadata": {},
   "outputs": [
    {
     "data": {
      "text/plain": [
       "Index(['URL', 'TITRE', 'TYPE', 'AUTEURS', 'CONTRIBUTEURS', 'EDITEURS', 'DATES',\n",
       "       'DESCRIPTIONS', 'SUJETS', 'PROVENANCE', 'ARK CATALOGUE', 'DROITS',\n",
       "       'NOMBRE DE VUES', 'CODE(S) PROJET(S)', 'NQA Moyen (%)', 'SOURCE',\n",
       "       'FICHIER'],\n",
       "      dtype='object')"
      ]
     },
     "execution_count": 19,
     "metadata": {},
     "output_type": "execute_result"
    }
   ],
   "source": [
    "df.columns"
   ]
  },
  {
   "cell_type": "code",
   "execution_count": 20,
   "id": "cf8154fc",
   "metadata": {},
   "outputs": [],
   "source": [
    "df.to_csv(test_csv)"
   ]
  },
  {
   "cell_type": "markdown",
   "id": "e2e6f2f8",
   "metadata": {},
   "source": [
    "## Processing\n"
   ]
  },
  {
   "cell_type": "code",
   "execution_count": 61,
   "id": "327d9ed8",
   "metadata": {},
   "outputs": [],
   "source": [
    "test_url_bib = 'https://bibliotheques-specialisees.paris.fr/ark:/73873/pf0001836977'\n",
    "test_url_gallica = 'https://gallica.bnf.fr/ark:/12148/btv1b10589915p'"
   ]
  },
  {
   "cell_type": "code",
   "execution_count": 62,
   "id": "95f8f870",
   "metadata": {},
   "outputs": [
    {
     "data": {
      "text/plain": [
       "<Response [200]>"
      ]
     },
     "execution_count": 62,
     "metadata": {},
     "output_type": "execute_result"
    }
   ],
   "source": [
    "resultat = requests.get(test_url_gallica)\n",
    "if resultat.status_code != 200:\n",
    "    print('Ah, erreur !')\n",
    "resultat"
   ]
  },
  {
   "cell_type": "code",
   "execution_count": 63,
   "id": "12c09fce",
   "metadata": {},
   "outputs": [
    {
     "data": {
      "text/plain": [
       "{'Date': 'Tue, 17 Jun 2025 12:41:26 GMT', 'Server': 'Apache', 'Set-Cookie': 'dtCookie=v_4_srv_1_sn_DD06A6FF8243424F7A43D698583602D6_perc_100000_ol_0_mul_1_app-3A3c476fda10179998_0; Path=/; Domain=.bnf.fr, JSESSIONID=061017191FA44603FE804F6A92AAC234; Path=/; Secure; HttpOnly', 'X-OneAgent-JS-Injection': 'true', 'Server-Timing': 'dtRpid;desc=\"-2023569636\", dtSInfo;desc=\"0\"', 'Content-Type': 'text/html;charset=UTF-8', 'Content-Language': 'fr-FR', 'Vary': 'Accept-Encoding,User-Agent', 'Content-Encoding': 'gzip', 'Strict-Transport-Security': 'max-age=31536000; includeSubDomains; always', 'Keep-Alive': 'timeout=5, max=500', 'Connection': 'Keep-Alive', 'Transfer-Encoding': 'chunked'}"
      ]
     },
     "execution_count": 63,
     "metadata": {},
     "output_type": "execute_result"
    }
   ],
   "source": [
    "resultat.headers"
   ]
  },
  {
   "cell_type": "markdown",
   "id": "329e5d1a",
   "metadata": {},
   "source": [
    "## Correction intitulé des fichiers"
   ]
  },
  {
   "cell_type": "code",
   "execution_count": 4,
   "id": "4baf0cbb",
   "metadata": {},
   "outputs": [
    {
     "name": "stdout",
     "output_type": "stream",
     "text": [
      "   Unnamed: 0                                                URL  \\\n",
      "0           0  https://bibliotheques-specialisees.paris.fr/ar...   \n",
      "1           1  https://bibliotheques-specialisees.paris.fr/ar...   \n",
      "2           2   https://gallica.bnf.fr/ark:/12148/btv1b10589915p   \n",
      "3           3   https://gallica.bnf.fr/ark:/12148/btv1b105899181   \n",
      "4           4   https://gallica.bnf.fr/ark:/12148/btv1b10589913s   \n",
      "\n",
      "                                               TITRE    TYPE  \\\n",
      "0  [Etude publicitaire pour le] cognac Bisquit. [...  images   \n",
      "1  [Etude publicitaire pour Robert Lang. Expositi...  images   \n",
      "2  [Exposition des Arts et des Techniques à Paris...  images   \n",
      "3  [Exposition des Arts et des Techniques à Paris...  images   \n",
      "4  [Exposition des Arts et des Techniques à Paris...  images   \n",
      "\n",
      "                                             AUTEURS  CONTRIBUTEURS EDITEURS  \\\n",
      "0  Vigneau, André (1892-1968) ¤ Camera (Société d...            NaN     1937   \n",
      "1  Vigneau, André (1892-1968) ¤ Camera (Société d...            NaN  [1937 ]   \n",
      "2  Maillard, Marcel (1899-1977). Photographe. Anc...            NaN      NaN   \n",
      "3  Maillard, Marcel (1899-1977). Photographe. Anc...            NaN      NaN   \n",
      "4  Maillard, Marcel (1899-1977). Photographe. Anc...            NaN      NaN   \n",
      "\n",
      "   DATES                                       DESCRIPTIONS  \\\n",
      "0   1937  Caméra fut un studio de publicité photographiq...   \n",
      "1   1937  Caméra fut un studio de publicité photographiq...   \n",
      "2   1937  Donateur : Manneville, Philippe (1937 -2012). ...   \n",
      "3   1937  Donateur : Manneville, Philippe (1937 -2012). ...   \n",
      "4   1937  Donateur : Manneville, Philippe (1937 -2012). ...   \n",
      "\n",
      "                                              SUJETS  \\\n",
      "0  Cognac Bisquit ¤ Exposition internationale . 1...   \n",
      "1  Exposition internationale . 1937 . Paris ¤ Pho...   \n",
      "2       Expositions internationales ¤ Paris (France)   \n",
      "3       Expositions internationales ¤ Paris (France)   \n",
      "4       Expositions internationales ¤ Paris (France)   \n",
      "\n",
      "                                        PROVENANCE  \\\n",
      "0  Bibliothèques spécialisées de la Ville de Paris   \n",
      "1  Bibliothèques spécialisées de la Ville de Paris   \n",
      "2                                          Gallica   \n",
      "3                                          Gallica   \n",
      "4                                          Gallica   \n",
      "\n",
      "                                    ARK CATALOGUE  \\\n",
      "0                                             NaN   \n",
      "1                                             NaN   \n",
      "2  http://catalogue.bnf.fr/ark:/12148/cb45893386h   \n",
      "3  http://catalogue.bnf.fr/ark:/12148/cb45893389j   \n",
      "4  http://catalogue.bnf.fr/ark:/12148/cb45893384t   \n",
      "\n",
      "                           DROITS  NOMBRE DE VUES CODE(S) PROJET(S)  \\\n",
      "0  domaine public ¤ public domain             1.0               NaN   \n",
      "1  domaine public ¤ public domain             1.0               NaN   \n",
      "2  domaine public ¤ public domain             1.0         BmLHav000   \n",
      "3  domaine public ¤ public domain             1.0         BmLHav000   \n",
      "4  domaine public ¤ public domain             1.0         BmLHav000   \n",
      "\n",
      "   NQA Moyen (%)                                             SOURCE  \\\n",
      "0            0.0  © André Vigneau / BHVP / Roger-Viollet / Ville...   \n",
      "1            0.0  © André Vigneau / BHVP / Roger-Viollet / Ville...   \n",
      "2            0.0      Bibliothèque municipale du Havre, MM/FP 64.02   \n",
      "3            0.0      Bibliothèque municipale du Havre, MM/FP 64.05   \n",
      "4            0.0      Bibliothèque municipale du Havre, MM/FP 63.11   \n",
      "\n",
      "                                             FICHIER  \n",
      "0  /home/mathieu/Documents/Stage/datasets/dataset...  \n",
      "1  /home/mathieu/Documents/Stage/datasets/dataset...  \n",
      "2  /home/mathieu/Documents/Stage/datasets/dataset...  \n",
      "3  /home/mathieu/Documents/Stage/datasets/dataset...  \n",
      "4  /home/mathieu/Documents/Stage/datasets/dataset...  \n"
     ]
    }
   ],
   "source": [
    "import pandas as pd\n",
    "\n",
    "# Chargement de ton CSV\n",
    "df = pd.read_csv(\"/home/mathieu/Documents/Stage/datasets/dataset_ExpoUniv1937/Expo_1937_photos.csv\")\n",
    "\n",
    "# Définir le dossier de base\n",
    "chemin_base = \"/home/mathieu/Documents/Stage/datasets/dataset_ExpoUniv1937/sortie/image_\"\n",
    "\n",
    "# Générer les chemins avec index formaté sur 2 chiffres\n",
    "df['FICHIER'] = [f\"{chemin_base}{str(i).zfill(2)}.jpg\" for i in range(len(df))]\n",
    "\n",
    "# Vérification (affiche les 5 premières lignes)\n",
    "print(df.head())\n",
    "\n",
    "# Sauvegarde dans un nouveau CSV\n",
    "df.to_csv(\"nouveau_fichier.csv\", index=False)"
   ]
  }
 ],
 "metadata": {
  "kernelspec": {
   "display_name": "base",
   "language": "python",
   "name": "python3"
  },
  "language_info": {
   "codemirror_mode": {
    "name": "ipython",
    "version": 3
   },
   "file_extension": ".py",
   "mimetype": "text/x-python",
   "name": "python",
   "nbconvert_exporter": "python",
   "pygments_lexer": "ipython3",
   "version": "3.12.9"
  }
 },
 "nbformat": 4,
 "nbformat_minor": 5
}
